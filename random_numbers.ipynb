{
 "cells": [
  {
   "cell_type": "code",
   "execution_count": 1,
   "id": "fde1bc4e",
   "metadata": {},
   "outputs": [],
   "source": [
    "# import the random module.\n",
    "import random"
   ]
  },
  {
   "cell_type": "code",
   "execution_count": 2,
   "id": "a92e4204",
   "metadata": {},
   "outputs": [
    {
     "data": {
      "text/plain": [
       "-76"
      ]
     },
     "execution_count": 2,
     "metadata": {},
     "output_type": "execute_result"
    }
   ],
   "source": [
    "random.randint(-90, 90)"
   ]
  },
  {
   "cell_type": "code",
   "execution_count": 3,
   "id": "314f1da9",
   "metadata": {},
   "outputs": [
    {
     "data": {
      "text/plain": [
       "0.8644264877406316"
      ]
     },
     "execution_count": 3,
     "metadata": {},
     "output_type": "execute_result"
    }
   ],
   "source": [
    "random.random()"
   ]
  },
  {
   "cell_type": "code",
   "execution_count": 4,
   "id": "d5b50d1b",
   "metadata": {},
   "outputs": [
    {
     "data": {
      "text/plain": [
       "20.936476872151864"
      ]
     },
     "execution_count": 4,
     "metadata": {},
     "output_type": "execute_result"
    }
   ],
   "source": [
    "random_number = random.randint(-90, 89) + random.random()\n",
    "random_number"
   ]
  },
  {
   "cell_type": "code",
   "execution_count": 7,
   "id": "ae52e0e5",
   "metadata": {},
   "outputs": [
    {
     "data": {
      "text/plain": [
       "[-72.53939428591794,\n",
       " -17.451736376554212,\n",
       " 26.72644580200896,\n",
       " -0.44628832380855543,\n",
       " 74.4284896772499,\n",
       " -15.88508763560832,\n",
       " 77.73986738194812,\n",
       " 48.81142934702815,\n",
       " -71.93833834716023,\n",
       " 26.13421618131168]"
      ]
     },
     "execution_count": 7,
     "metadata": {},
     "output_type": "execute_result"
    }
   ],
   "source": [
    "x = 1\n",
    "latitudes = []\n",
    "while x < 11:\n",
    "    random_lat = random.randint(-90, 89) + random.random()\n",
    "    latitudes.append(random_lat)\n",
    "    x += 1\n",
    "latitudes"
   ]
  },
  {
   "cell_type": "code",
   "execution_count": 8,
   "id": "93de8f49",
   "metadata": {},
   "outputs": [
    {
     "data": {
      "text/plain": [
       "77"
      ]
     },
     "execution_count": 8,
     "metadata": {},
     "output_type": "execute_result"
    }
   ],
   "source": [
    "random.randrange(-90, 90, step=1)"
   ]
  },
  {
   "cell_type": "code",
   "execution_count": 9,
   "id": "540e9f7e",
   "metadata": {},
   "outputs": [
    {
     "data": {
      "text/plain": [
       "27"
      ]
     },
     "execution_count": 9,
     "metadata": {},
     "output_type": "execute_result"
    }
   ],
   "source": [
    "random.randrange(-90, 90, step=3) "
   ]
  },
  {
   "cell_type": "code",
   "execution_count": 10,
   "id": "2c6ffb7d",
   "metadata": {},
   "outputs": [
    {
     "data": {
      "text/plain": [
       "16.346637031150877"
      ]
     },
     "execution_count": 10,
     "metadata": {},
     "output_type": "execute_result"
    }
   ],
   "source": [
    "random.uniform(-90, 90)"
   ]
  },
  {
   "cell_type": "code",
   "execution_count": 11,
   "id": "5c7d09f6",
   "metadata": {},
   "outputs": [],
   "source": [
    "# Import the NumPy module.\n",
    "import numpy as np"
   ]
  },
  {
   "cell_type": "code",
   "execution_count": 13,
   "id": "05c1c99a",
   "metadata": {},
   "outputs": [
    {
     "data": {
      "text/plain": [
       "-83.3563917129953"
      ]
     },
     "execution_count": 13,
     "metadata": {},
     "output_type": "execute_result"
    }
   ],
   "source": [
    "np.random.uniform(-90, 90)"
   ]
  },
  {
   "cell_type": "code",
   "execution_count": 14,
   "id": "cc90f596",
   "metadata": {},
   "outputs": [
    {
     "data": {
      "text/plain": [
       "array([-23.23562397, -59.54405841,  17.89603458, -66.81504232,\n",
       "       -66.35989442,   4.52747171, -12.36123453,  85.14977648,\n",
       "        18.3149701 ,  24.03604635, -75.55876389,  -9.35193034,\n",
       "       -45.62616061,  27.02114171,  71.9152804 ,  45.836581  ,\n",
       "        -6.96653662, -53.65816836,  68.68716388,  31.43519422,\n",
       "        16.57459473,  62.90168054,  24.03322559, -44.92882829,\n",
       "        50.62679472, -84.29234385,  56.44235412, -67.44362087,\n",
       "        82.47424547,  88.53957101,   1.97601329, -35.41131748,\n",
       "       -60.55642893, -89.89562435, -10.22225504, -43.45777109,\n",
       "        15.03731149,  72.73993586,  89.69003636,  86.83639479,\n",
       "        13.16173073, -42.5083311 ,  10.85846966, -45.27609978,\n",
       "       -85.16145585,  12.20006458,  77.83632347,  24.78295194,\n",
       "        52.61933989, -61.30842001])"
      ]
     },
     "execution_count": 14,
     "metadata": {},
     "output_type": "execute_result"
    }
   ],
   "source": [
    "np.random.uniform(-90, 90, size=50)"
   ]
  },
  {
   "cell_type": "code",
   "execution_count": 15,
   "id": "40f43b2c",
   "metadata": {},
   "outputs": [],
   "source": [
    "# Import timeit (how long a piece of code takes to run)\n",
    "import timeit"
   ]
  },
  {
   "cell_type": "code",
   "execution_count": 16,
   "id": "00280fcd",
   "metadata": {},
   "outputs": [
    {
     "name": "stdout",
     "output_type": "stream",
     "text": [
      "19.4 µs ± 54 ns per loop (mean ± std. dev. of 7 runs, 10000 loops each)\n"
     ]
    }
   ],
   "source": [
    "%timeit np.random.uniform(-90, 90, size=1500)"
   ]
  },
  {
   "cell_type": "code",
   "execution_count": 20,
   "id": "d4912d28",
   "metadata": {},
   "outputs": [
    {
     "name": "stdout",
     "output_type": "stream",
     "text": [
      "1.53 ms ± 10.4 µs per loop (mean ± std. dev. of 7 runs, 1000 loops each)\n"
     ]
    }
   ],
   "source": [
    "def latitudes(size):\n",
    "    latitudes = []\n",
    "    x = 0\n",
    "    while x < (size):\n",
    "        random_lat = random.randint(-90, 90) + random.random()\n",
    "        latitudes.append(random_lat)\n",
    "        x += 1\n",
    "    return latitudes\n",
    "# Call the function with 1500.\n",
    "%timeit latitudes(1500)"
   ]
  },
  {
   "cell_type": "code",
   "execution_count": null,
   "id": "2fb9ae1c",
   "metadata": {},
   "outputs": [],
   "source": []
  }
 ],
 "metadata": {
  "kernelspec": {
   "display_name": "PythonData",
   "language": "python",
   "name": "pythondata"
  },
  "language_info": {
   "codemirror_mode": {
    "name": "ipython",
    "version": 3
   },
   "file_extension": ".py",
   "mimetype": "text/x-python",
   "name": "python",
   "nbconvert_exporter": "python",
   "pygments_lexer": "ipython3",
   "version": "3.7.11"
  }
 },
 "nbformat": 4,
 "nbformat_minor": 5
}
